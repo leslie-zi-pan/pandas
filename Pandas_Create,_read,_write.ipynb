{
  "nbformat": 4,
  "nbformat_minor": 0,
  "metadata": {
    "colab": {
      "name": "Pandas - Create, read, write.ipynb",
      "provenance": [],
      "authorship_tag": "ABX9TyNBt3wZ8DmMw67b7Rtr7vAm",
      "include_colab_link": true
    },
    "kernelspec": {
      "name": "python3",
      "display_name": "Python 3"
    },
    "language_info": {
      "name": "python"
    }
  },
  "cells": [
    {
      "cell_type": "markdown",
      "metadata": {
        "id": "view-in-github",
        "colab_type": "text"
      },
      "source": [
        "<a href=\"https://colab.research.google.com/github/leslie-zi-pan/pandas/blob/main/Pandas_Create%2C_read%2C_write.ipynb\" target=\"_parent\"><img src=\"https://colab.research.google.com/assets/colab-badge.svg\" alt=\"Open In Colab\"/></a>"
      ]
    },
    {
      "cell_type": "markdown",
      "source": [
        "# Pandas - Creating, Reading, and Writing\n",
        "https://www.kaggle.com/code/residentmario/creating-reading-and-writing/tutorial"
      ],
      "metadata": {
        "id": "2tuooUMSixHX"
      }
    },
    {
      "cell_type": "code",
      "execution_count": null,
      "metadata": {
        "id": "7FkX5X0riwkb"
      },
      "outputs": [],
      "source": [
        ""
      ]
    }
  ]
}